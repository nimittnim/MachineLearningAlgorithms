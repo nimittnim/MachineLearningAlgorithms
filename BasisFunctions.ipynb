{
 "cells": [
  {
   "attachments": {},
   "cell_type": "markdown",
   "metadata": {},
   "source": [
    "**Basis Functions**"
   ]
  },
  {
   "attachments": {},
   "cell_type": "markdown",
   "metadata": {},
   "source": [
    "Basis functions are tranformations that tranforms dataset into space that is more easily classifiable (Kernel Trick)."
   ]
  },
  {
   "attachments": {},
   "cell_type": "markdown",
   "metadata": {},
   "source": [
    "Some Polynomial basis functions :"
   ]
  },
  {
   "attachments": {},
   "cell_type": "markdown",
   "metadata": {},
   "source": [
    "1. Chebyslev's Polynomial \n",
    "\n",
    "$T_{0}(x) = 1$\\\n",
    "$T_{1}(x) = x$\\\n",
    "$T_{n+1}(x) = 2xT_{n}(x) - T_{n-1}(x)$"
   ]
  },
  {
   "cell_type": "code",
   "execution_count": null,
   "metadata": {},
   "outputs": [],
   "source": [
    "def chebyshev_polynomial(x,degree):\n",
    "    n = degree\n",
    "    if degree == 0 :\n",
    "        return 1\n",
    "    elif degree == 1:\n",
    "        return x\n",
    "    else :\n",
    "        return (2*x)*chebyshev_polynomial(x,n-1) - chebyshev_polynomial(x,n-2)"
   ]
  },
  {
   "attachments": {},
   "cell_type": "markdown",
   "metadata": {},
   "source": [
    "2. Legendre's Polynomial\n",
    "\n",
    "$P_{0}(x) = 1$\\\n",
    "$P_{1}(x) = x$\\\n",
    "$(n+1)P_{n+1}(x) = (2n+1)P_{n}(x) - P_{n-1}(x)$ "
   ]
  },
  {
   "cell_type": "code",
   "execution_count": null,
   "metadata": {},
   "outputs": [],
   "source": [
    "# Legendre Polynomial\n",
    "def legendre_polynomial(x, degree):\n",
    "    n = degree\n",
    "    if degree == 0 :\n",
    "        return 1\n",
    "    elif degree == 1:\n",
    "        return x\n",
    "    else :\n",
    "        return ((1/n)*((2*n-1)*legendre_polynomial(x,n-1) - legendre_polynomial(x,n-2)))"
   ]
  },
  {
   "attachments": {},
   "cell_type": "markdown",
   "metadata": {},
   "source": [
    "3. Bernstein Basis\n",
    "\n",
    "$B_{n,i}(x) = {n\\choose i} (1-x)^{n-i}x^{i} $"
   ]
  },
  {
   "attachments": {},
   "cell_type": "markdown",
   "metadata": {},
   "source": [
    "Random Fourier Features "
   ]
  },
  {
   "cell_type": "code",
   "execution_count": null,
   "metadata": {},
   "outputs": [],
   "source": [
    "import sklearn\n",
    "import torch\n",
    "def create_rff_features(X, num_features, sigma):\n",
    "    from sklearn.kernel_approximation import RBFSampler\n",
    "    rff = RBFSampler(n_components=num_features, gamma=1/(2 * sigma**2))\n",
    "    X = X.cpu().numpy()\n",
    "    X = rff.fit_transform(X)\n",
    "    return torch.tensor(X, dtype=torch.float32)"
   ]
  }
 ],
 "metadata": {
  "kernelspec": {
   "display_name": "Python 3",
   "language": "python",
   "name": "python3"
  },
  "language_info": {
   "name": "python",
   "version": "3.11.1 (v3.11.1:a7a450f84a, Dec  6 2022, 15:24:06) [Clang 13.0.0 (clang-1300.0.29.30)]"
  },
  "orig_nbformat": 4,
  "vscode": {
   "interpreter": {
    "hash": "aee8b7b246df8f9039afb4144a1f6fd8d2ca17a180786b69acc140d282b71a49"
   }
  }
 },
 "nbformat": 4,
 "nbformat_minor": 2
}
