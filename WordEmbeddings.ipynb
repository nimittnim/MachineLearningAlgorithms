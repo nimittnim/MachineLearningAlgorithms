{
 "cells": [
  {
   "attachments": {},
   "cell_type": "markdown",
   "metadata": {},
   "source": [
    "**Word Embeddings**\n",
    "\n",
    "Convert tokens to vectors of real numbers based on usage and context."
   ]
  },
  {
   "attachments": {},
   "cell_type": "markdown",
   "metadata": {},
   "source": [
    "- Using Two Layer (Linear) Neural Network \n",
    "\n",
    "Feed $(n)$ one hot encoded samples call $X$  to Neural Network. Let $W_1(r,n)$ and $W_2(n,r)$ be weights of the first and second layer respectively. \n",
    "\n",
    "$Out = Softmax(W_{2}W_{1}X)$\n",
    "\n",
    "The W1 weights are the representation vectors where each word has r dimensional vector.\n"
   ]
  },
  {
   "cell_type": "code",
   "execution_count": 5,
   "metadata": {},
   "outputs": [],
   "source": [
    "import numpy as np\n",
    "import matplotlib.pyplot as plt\n",
    "import torch\n",
    "import torch.nn as nn\n",
    "import torch.optim as optim"
   ]
  },
  {
   "cell_type": "code",
   "execution_count": 9,
   "metadata": {},
   "outputs": [],
   "source": [
    "class WordEmbeddings:\n",
    "\n",
    "    def __init__(self,m,r):\n",
    "\n",
    "        self.model = nn.Sequential(\n",
    "            nn.Linear(m,r),\n",
    "            nn.Linear(r,m),\n",
    "        )\n",
    "        self.loss_function = nn.CrossEntropyLoss()\n",
    "        self.optimizer = optim.Adam(self.model.parameters(),lr = 0.01)\n",
    "        self.unique_words = None\n",
    "        self.embedding = None\n",
    "\n",
    "    def one_hot_encode_word(self,word):\n",
    "\n",
    "        if (word in self.unique_words):\n",
    "            m = len(self.unique_words)\n",
    "            endcoded_word_index = self.unique_words.index(word)\n",
    "            encoded_word = np.zeros(m)\n",
    "            encoded_word[endcoded_word_index] = 1\n",
    "            return torch.tensor(encoded_word,dtype = torch.float32)\n",
    "        else :\n",
    "            print(\"Query word not in trained words\")\n",
    "    \n",
    "    def generate_encoded_dataset(self,words):\n",
    "\n",
    "        unique_words = list(set(words))\n",
    "        n = len(words)\n",
    "        m = len(unique_words)\n",
    "        X = np.zeros((n,m))\n",
    "        y = np.zeros((n,m))\n",
    "        for i in range(n-1):\n",
    "            j = unique_words.index(words[i])\n",
    "            j_next_word = unique_words.index(words[i+1])\n",
    "            X[i][j] = 1\n",
    "            y[i][j_next_word] = 1 \n",
    "        return torch.tensor(X,dtype = torch.float32),torch.tensor(y,dtype = torch.float32),unique_words\n",
    "        \n",
    "    def train(self,X,y):\n",
    "\n",
    "        # Training\n",
    "        max_epochs = 2000\n",
    "        # print(f'Initial Loss {self.loss_function(self.model(X),y)}')\n",
    "        for e in range(max_epochs):\n",
    "            y_hat = self.model(X)\n",
    "            loss = self.loss_function(y_hat,y)\n",
    "            self.optimizer.zero_grad()\n",
    "            loss.backward()\n",
    "            self.optimizer.step() \n",
    "        # print(f'Final Loss {self.loss_function(self.model(X),y)}')\n",
    "\n",
    "    def get_embedding(self,words):\n",
    "        \n",
    "        X,y,unique_words = self.generate_encoded_dataset(words)\n",
    "        self.unique_words = unique_words\n",
    "        self.train(X,y)\n",
    "        params = []\n",
    "        for param in self.model.parameters():\n",
    "            params.append(param)\n",
    "        embedding = np.array(params[0].detach()).T\n",
    "        self.embedding = embedding\n",
    "        return embedding\n",
    "    \n",
    "    def close_words(self, word, nof_words):\n",
    "        if (word in self.unique_words):\n",
    "            ind = self.unique_words.index(word)\n",
    "            closeness = np.sum((self.embedding - self.embedding[ind])**2,axis = 1)\n",
    "            word_indices = np.argsort(closeness)[0:nof_words]\n",
    "            words = []\n",
    "            for i in range(len(word_indices)):\n",
    "                words.append(self.unique_words[word_indices[i]])\n",
    "            return words\n",
    "        else :\n",
    "            print(\"Query word not in trained words\") \n",
    "\n",
    "    def next_word(self,word):\n",
    "\n",
    "        if (word in self.unique_words):\n",
    "            softmax = nn.Softmax(dim = 0)\n",
    "            out = torch.argmax(softmax(self.model(self.one_hot_encode_word(word))).detach())\n",
    "            return self.unique_words[out] \n",
    "        else :\n",
    "            print(\"Query word not in trained words\") \n",
    "            "
   ]
  },
  {
   "cell_type": "code",
   "execution_count": 10,
   "metadata": {},
   "outputs": [],
   "source": [
    "# Generating the Dataset\n",
    "f = open(\"Datasets/Text.txt\",'r')\n",
    "words = f.read().split()\n",
    "unique_words = list(set(words))\n",
    "n = len(words)\n",
    "m = len(unique_words)"
   ]
  },
  {
   "cell_type": "code",
   "execution_count": 11,
   "metadata": {},
   "outputs": [],
   "source": [
    "# Training\n",
    "r = 20\n",
    "we = WordEmbeddings(m,r)\n",
    "e = we.get_embedding(words)"
   ]
  },
  {
   "cell_type": "code",
   "execution_count": 12,
   "metadata": {},
   "outputs": [
    {
     "name": "stdout",
     "output_type": "stream",
     "text": [
      "personalizes\n"
     ]
    }
   ],
   "source": [
    "# Next Word\n",
    "print(we.next_word('AI'))"
   ]
  },
  {
   "cell_type": "code",
   "execution_count": 13,
   "metadata": {},
   "outputs": [
    {
     "data": {
      "text/plain": [
       "['AI',\n",
       " 'intelligence',\n",
       " 'catalyst',\n",
       " 'time',\n",
       " 'opportunities',\n",
       " 'essential',\n",
       " 'ensure',\n",
       " 'interdisciplinary',\n",
       " 'fairness,',\n",
       " 'datasets']"
      ]
     },
     "execution_count": 13,
     "metadata": {},
     "output_type": "execute_result"
    }
   ],
   "source": [
    "# Close words\n",
    "we.close_words('AI',10)"
   ]
  },
  {
   "cell_type": "code",
   "execution_count": 14,
   "metadata": {},
   "outputs": [
    {
     "data": {
      "text/plain": [
       "Text(0, 0.5, 'Component 2')"
      ]
     },
     "execution_count": 14,
     "metadata": {},
     "output_type": "execute_result"
    },
    {
     "data": {
      "image/png": "[encoded data removed]",
      "text/plain": [
       "<Figure size 640x480 with 1 Axes>"
      ]
     },
     "metadata": {},
     "output_type": "display_data"
    }
   ],
   "source": [
    "# Visualizing the grouping of words based on generated vector representation\n",
    "plt.scatter(e[:,6],e[:,3])\n",
    "plt.xlabel(\"Component 1\")\n",
    "plt.ylabel(\"Component 2\")"
   ]
  },
  {
   "attachments": {},
   "cell_type": "markdown",
   "metadata": {},
   "source": [
    "We can see the model tries to group words into different clusters."
   ]
  }
 ],
 "metadata": {
  "kernelspec": {
   "display_name": "Python 3",
   "language": "python",
   "name": "python3"
  },
  "language_info": {
   "codemirror_mode": {
    "name": "ipython",
    "version": 3
   },
   "file_extension": ".py",
   "mimetype": "text/x-python",
   "name": "python",
   "nbconvert_exporter": "python",
   "pygments_lexer": "ipython3",
   "version": "3.11.1 (v3.11.1:a7a450f84a, Dec  6 2022, 15:24:06) [Clang 13.0.0 (clang-1300.0.29.30)]"
  },
  "orig_nbformat": 4,
  "vscode": {
   "interpreter": {
    "hash": "aee8b7b246df8f9039afb4144a1f6fd8d2ca17a180786b69acc140d282b71a49"
   }
  }
 },
 "nbformat": 4,
 "nbformat_minor": 2
}
