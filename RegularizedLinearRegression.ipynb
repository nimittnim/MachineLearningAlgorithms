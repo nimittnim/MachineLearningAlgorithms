{
 "cells": [
  {
   "attachments": {},
   "cell_type": "markdown",
   "metadata": {},
   "source": [
    "Regularized Linear Regression"
   ]
  },
  {
   "attachments": {},
   "cell_type": "markdown",
   "metadata": {},
   "source": [
    "We decrease bias in a Linear Regression model by adding polynomial features. But with increase in degree of Regression, the complexity increases and chances of overfitting increase. One symptom of overfitting is altenative addition and subtration terms with large coeffiecients. We can avoid this by adding a penalty term in the loss function that keeps check on this. The modified loss function is :\n",
    "\n",
    "$ L(\\theta) = (Y - X \\theta)^{T}(Y - X \\theta) + f(\\theta) $\n",
    "\n",
    "$f(\\theta)$ is the penalty term for checking overshooting for $\\theta$.\n"
   ]
  },
  {
   "attachments": {},
   "cell_type": "markdown",
   "metadata": {},
   "source": [
    "Ridge Regression"
   ]
  },
  {
   "attachments": {},
   "cell_type": "markdown",
   "metadata": {},
   "source": [
    " $f(\\theta) = \\theta^{T}\\theta$\n",
    "\n",
    "So, To find optimal \\theta we differentiate $L(\\theta)$ wrt \\theta and equate to $0$. Thus, getting,\n",
    "\n",
    "$ \\theta_{optimal} = (X^{T} X + \\mu I^{*})^{-1}X^{T}y$\n",
    "\n",
    "Note $I^{*}$ is identity matrix with $I[0][0] = 0$, as we don't want to keep check on the intercept parameter $\\theta_{0}$"
   ]
  },
  {
   "attachments": {},
   "cell_type": "markdown",
   "metadata": {},
   "source": [
    "Lasso Regression "
   ]
  },
  {
   "attachments": {},
   "cell_type": "markdown",
   "metadata": {},
   "source": [
    "$f(\\theta) = \\Sigma_{i = 0}^{n} |\\theta_{i}|$"
   ]
  }
 ],
 "metadata": {
  "kernelspec": {
   "display_name": "Python 3",
   "language": "python",
   "name": "python3"
  },
  "language_info": {
   "name": "python",
   "version": "3.11.1 (v3.11.1:a7a450f84a, Dec  6 2022, 15:24:06) [Clang 13.0.0 (clang-1300.0.29.30)]"
  },
  "orig_nbformat": 4,
  "vscode": {
   "interpreter": {
    "hash": "aee8b7b246df8f9039afb4144a1f6fd8d2ca17a180786b69acc140d282b71a49"
   }
  }
 },
 "nbformat": 4,
 "nbformat_minor": 2
}
