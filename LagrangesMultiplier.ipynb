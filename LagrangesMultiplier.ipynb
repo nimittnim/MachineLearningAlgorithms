{
 "cells": [
  {
   "attachments": {},
   "cell_type": "markdown",
   "metadata": {},
   "source": [
    "Lagrange's Multiplier \n",
    "\n",
    "find the optmial $\\theta$ under the given constraints. \n",
    "If,\n",
    "    $g(\\theta) = \\alpha$ \n",
    "is the constraint then,\n",
    "\n",
    "add a penalty $P(\\theta)$ to the loss function such that,\n",
    "    $P(\\theta) = g^-(\\theta)$"
   ]
  }
 ],
 "metadata": {
  "kernelspec": {
   "display_name": "Python 3",
   "language": "python",
   "name": "python3"
  },
  "language_info": {
   "name": "python",
   "version": "3.11.1 (v3.11.1:a7a450f84a, Dec  6 2022, 15:24:06) [Clang 13.0.0 (clang-1300.0.29.30)]"
  },
  "orig_nbformat": 4,
  "vscode": {
   "interpreter": {
    "hash": "aee8b7b246df8f9039afb4144a1f6fd8d2ca17a180786b69acc140d282b71a49"
   }
  }
 },
 "nbformat": 4,
 "nbformat_minor": 2
}
